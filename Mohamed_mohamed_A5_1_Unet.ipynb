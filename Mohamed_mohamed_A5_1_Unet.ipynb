{
  "cells": [
    {
      "cell_type": "markdown",
      "metadata": {
        "id": "aGgxkVfjiU0B"
      },
      "source": [
        "---\n",
        "# Cairo University Faculty of Engineering\n",
        "## Deep Learning\n",
        "## Assignment 5_1\n",
        "\n",
        "---"
      ]
    },
    {
      "cell_type": "markdown",
      "metadata": {
        "id": "joisy_aciU0E"
      },
      "source": [
        "Please write your full name here\n",
        "- **Name** : \"-----------\""
      ]
    },
    {
      "cell_type": "markdown",
      "metadata": {
        "id": "Q3NVDfXY4__X"
      },
      "source": [
        "# Image Segmentation with U-Net\n",
        "\n",
        "You'll be building your own U-Net for semantic segmentation of a self-driving car challenge!"
      ]
    },
    {
      "cell_type": "markdown",
      "metadata": {
        "id": "jQTgy7j4iU0E"
      },
      "source": [
        "## Table of Content\n",
        "\n",
        "- [1 - Packages](#1)\n",
        "- [2 - Load and Split the Data](#2)\n",
        "    - [2.1 - Split Your Dataset into Unmasked and Masked Images](#2-1)\n",
        "    - [2.2 - Preprocess Your Data](#2-2)\n",
        "- [3 - U-Net](#3)\n",
        "    - [3.1 - Model Details](#3-1)\n",
        "    - [3.2 - Encoder (Downsampling Block)](#3-2)\n",
        "        - [Exercise 1 - conv_block](#ex-1)\n",
        "    - [3.3 - Decoder (Upsampling Block)](#3-3)\n",
        "        - [Exercise 2 - upsampling_block](#ex-2)\n",
        "    - [3.4 - Build the Model](#3-4)\n",
        "        - [Exercise 3 - unet_model](#ex-3)\n",
        "    - [3.5 - Set Model Dimensions](#3-5)\n",
        "    - [3.6 - Loss Function](#3-6)\n",
        "    - [3.7 - Dataset Handling](#3-7)\n",
        "- [4 - Train the Model](#4)\n",
        "    - [4.1 - Create Predicted Masks](#4-1)\n",
        "    - [4.2 - Plot Model Accuracy](#4-2)\n",
        "    - [4.3 - Show Predictions](#4-3)"
      ]
    },
    {
      "cell_type": "markdown",
      "metadata": {
        "id": "F57bqletV992"
      },
      "source": [
        "<a name='1'></a>\n",
        "## 1 - Packages\n",
        "\n",
        "Run the cell below to import all the libraries you'll need:"
      ]
    },
    {
      "cell_type": "code",
      "execution_count": null,
      "metadata": {
        "id": "0exJ9KsDrwck"
      },
      "outputs": [],
      "source": [
        "import tensorflow as tf\n",
        "import numpy as np\n",
        "\n",
        "from tensorflow.keras.layers import Input\n",
        "from tensorflow.keras.layers import Conv2D\n",
        "from tensorflow.keras.layers import MaxPooling2D\n",
        "from tensorflow.keras.layers import Dropout\n",
        "from tensorflow.keras.layers import Conv2DTranspose\n",
        "from tensorflow.keras.layers import concatenate"
      ]
    },
    {
      "cell_type": "markdown",
      "metadata": {
        "id": "eFPXtDHMiU0G"
      },
      "source": [
        "<a name='2'></a>\n",
        "## 2 - Load and Split the Data"
      ]
    },
    {
      "cell_type": "markdown",
      "metadata": {
        "id": "C70Lvh6UiU0G"
      },
      "source": [
        "- Download the data from Lyft Semantic Segmentation Challenge from Kaggle.\n",
        "\n",
        "    - Link:https://www.kaggle.com/datasets/kumaresanmanickavelu/lyft-udacity-challenge\n",
        "\n",
        "- Use the **DataA**  folder only.\n",
        "\n",
        "- You can run on Colab.\n",
        "    - upload data to drive\n",
        "    - OR fetch the data from Kaggle to Colab directly (easier)\n",
        "    \n",
        "- OR You can run on Kaggle directly (EASIER)"
      ]
    },
    {
      "cell_type": "code",
      "execution_count": null,
      "metadata": {
        "id": "FWpkuq4tfU4i"
      },
      "outputs": [],
      "source": [
        "import os\n",
        "import numpy as np # linear algebra\n",
        "import pandas as pd # data processing, CSV file I/O (e.g. pd.read_csv)\n",
        "\n",
        "import imageio.v2 as imageio\n",
        "\n",
        "import matplotlib.pyplot as plt\n",
        "%matplotlib inline\n",
        "\n",
        "\"\"\"\"\n",
        "Write the code that reads in the complete file paths for the images and masks in the dataset from the directories that contain them\n",
        "- image_list should contain the paths for all images\n",
        "- mask_list should contain the paths for all masks\n",
        "\n",
        "\"\"\"\n",
        "###################\n",
        "\n",
        "\n",
        "\n",
        "image_list = ##################\n",
        "mask_list = #################\n"
      ]
    },
    {
      "cell_type": "code",
      "execution_count": null,
      "metadata": {
        "id": "17w82EsdiU0H"
      },
      "outputs": [],
      "source": [
        "len(image_list)"
      ]
    },
    {
      "cell_type": "markdown",
      "metadata": {
        "id": "QqHrSWD2iU0H"
      },
      "source": [
        "### Check out the some of the unmasked and masked images from the dataset:"
      ]
    },
    {
      "cell_type": "code",
      "execution_count": null,
      "metadata": {
        "id": "RZhnXflBl6Xm"
      },
      "outputs": [],
      "source": [
        "N = 3\n",
        "img = imageio.imread(image_list[N])\n",
        "mask = imageio.imread(mask_list[N])\n",
        "\n",
        "fig, arr = plt.subplots(1, 2, figsize=(14, 10))\n",
        "arr[0].imshow(img)\n",
        "arr[0].set_title('Image')\n",
        "arr[1].imshow(mask[:, :, 0])\n",
        "arr[1].set_title('Segmentation')"
      ]
    },
    {
      "cell_type": "markdown",
      "metadata": {
        "id": "oJLh8mqEiU0H"
      },
      "source": [
        "⏰⏰⏰⏰⏰⏰\n",
        "\n",
        "**Question**\n",
        "\n",
        "What is the size of each mask? How many classes are there in this data?"
      ]
    },
    {
      "cell_type": "markdown",
      "metadata": {
        "id": "oe_1_6j1iU0H"
      },
      "source": []
    },
    {
      "cell_type": "markdown",
      "metadata": {
        "id": "O4Xn9fiRiU0H"
      },
      "source": [
        "<a name='2-1'></a>\n",
        "### 2.1 - Split Your Dataset into Unmasked and Masked Images\n",
        "\n",
        "Convert the image_list and mask_list into a single tf.data.Dataset object."
      ]
    },
    {
      "cell_type": "code",
      "execution_count": null,
      "metadata": {
        "id": "aNF2Ztii8-Jx"
      },
      "outputs": [],
      "source": [
        "dataset = ############\n",
        "\n",
        "for image, mask in dataset.take(1):\n",
        "    print(image)\n",
        "    print(mask)"
      ]
    },
    {
      "cell_type": "markdown",
      "metadata": {
        "id": "HDdNX9x4iU0I"
      },
      "source": [
        "<a name='2-2'></a>\n",
        "### 2.2 - Preprocess Your Data"
      ]
    },
    {
      "cell_type": "code",
      "execution_count": null,
      "metadata": {
        "id": "NUjQfI1wmkkn"
      },
      "outputs": [],
      "source": [
        "def process_path(image_path, mask_path):\n",
        "    \"\"\"\n",
        "    Write a function that takes in the image and mask path and returns the image and mask as TENSORS\n",
        "    - Use tensorflow functions only\n",
        "    - Keep track of what the dimensions should be\n",
        "    - The mask should have 1 channel\n",
        "    - The image should have 3 channels\n",
        "    \"\"\"\n",
        "    ## START CODE HERE ####\n",
        "\n",
        "\n",
        "\n",
        "    #### END CODE HERE ####\n",
        "\n",
        "    return img, mask\n",
        "\n",
        "def preprocess(image, mask):\n",
        "    input_image = tf.image.resize(image, (96, 128), method='nearest')\n",
        "    input_mask = tf.image.resize(mask, (96, 128), method='nearest')\n",
        "\n",
        "    input_image = input_image / 255.\n",
        "\n",
        "    return input_image, input_mask\n",
        "\n",
        "image_ds = dataset.map(process_path)\n",
        "processed_image_ds = image_ds.map(preprocess)"
      ]
    },
    {
      "cell_type": "markdown",
      "metadata": {
        "id": "3cXo8bjeiU0I"
      },
      "source": [
        "<a name='3'></a>\n",
        "## 3 - U-Net"
      ]
    },
    {
      "cell_type": "markdown",
      "metadata": {
        "id": "CSmP_9LQiU0I"
      },
      "source": [
        "<a name='3-1'></a>\n",
        "### 3.1 - Model Details\n",
        "\n",
        "<a href=\"https://ibb.co/8bfBpz5\"><img src=\"https://i.ibb.co/QkTcR8N/unet.png\" alt=\"unet\" border=\"0\"></a><br /><a target='_blank' href='https://emoticoncentral.com/category/classical-building'></a><br />\n",
        "<caption><center> <u><b> Figure 2 </u></b>: U-Net Architecture<br> </center></caption>\n",
        "\n",
        "**Contracting path** (Encoder containing downsampling steps):\n",
        "\n",
        "Images are first fed through several convolutional layers which reduce height and width, while growing the number of channels.\n",
        "\n",
        "The contracting path follows a regular CNN architecture, with convolutional layers, their activations, and pooling layers to downsample the image and extract its features. In detail, it consists of the repeated application of two 3 x 3 unpadded convolutions, each followed by a rectified linear unit (ReLU) and a 2 x 2 max pooling operation with stride 2 for downsampling. At each downsampling step, the number of feature channels is doubled.\n",
        "\n",
        "**Crop function**: This step crops the image from the contracting path and concatenates it to the current image on the expanding path to create a skip connection.\n",
        "\n",
        "**Expanding path** (Decoder containing upsampling steps):\n",
        "\n",
        "The expanding path performs the opposite operation of the contracting path, growing the image back to its original size, while shrinking the channels gradually.\n",
        "\n",
        "In detail, each step in the expanding path upsamples the feature map, followed by a 2 x 2 convolution (the transposed convolution). This transposed convolution halves the number of feature channels, while growing the height and width of the image.\n",
        "\n",
        "Next is a concatenation with the correspondingly cropped feature map from the contracting path, and two 3 x 3 convolutions, each followed by a ReLU. You need to perform cropping to handle the loss of border pixels in every convolution.\n",
        "\n",
        "**Final Feature Mapping Block**: In the final layer, a 1x1 convolution is used to map each 64-component feature vector to the desired number of classes. The channel dimensions from the previous layer correspond to the number of filters used, so when you use 1x1 convolutions, you can transform that dimension by choosing an appropriate number of 1x1 filters. When this idea is applied to the last layer, you can reduce the channel dimensions to have one layer per class.\n",
        "\n",
        "The U-Net network has 23 convolutional layers in total."
      ]
    },
    {
      "cell_type": "markdown",
      "metadata": {
        "id": "ETPr2Kx7CpqG"
      },
      "source": [
        "<a name='3-2'></a>\n",
        "### 3.2 - Encoder (Downsampling Block)\n",
        "\n",
        "\n",
        "<a href=\"https://ibb.co/BGGWBGc\"><img src=\"https://i.ibb.co/XDD0tDj/encoder.png\" alt=\"encoder\" border=\"0\"></a>\n",
        "<caption><center> <u><b>Figure 3</u></b>: The U-Net Encoder up close <br> </center></caption>\n",
        "\n",
        "The encoder is a stack of various conv_blocks:\n",
        "\n",
        "Each `conv_block()` is composed of 2 **Conv2D** layers  with ReLU activations. We will apply **Dropout**, and **MaxPooling2D** to some conv_blocks, as you will verify in the following sections, specifically to the last two blocks of the downsampling.\n",
        "\n",
        "The function will  return two tensors:\n",
        "- `next_layer`: That will go into the next block.\n",
        "- `skip_connection`: That will go into the corresponding decoding block.\n",
        "\n",
        "**Note**: If `max_pooling=True`, the `next_layer` will be the output of the MaxPooling2D layer, but the `skip_connection` will be the output of the previously applied layer(Conv2D or Dropout, depending on the case). Else, both results will be identical.  \n",
        "\n",
        "<a name='ex-1'></a>\n",
        "### Exercise 1 - conv_block\n",
        "\n",
        "Implement `conv_block(...)`. Here are the instructions for each step in the `conv_block`, or contracting block:\n",
        "\n",
        "* Add 2 **Conv2D** layers with `n_filters` filters with `kernel_size` set to 3, `kernel_initializer` set to ['he_normal'](https://www.tensorflow.org/api_docs/python/tf/keras/initializers/HeNormal), `padding` set to 'same' and 'relu' activation.\n",
        "* if `dropout_prob` > 0, then add a Dropout layer with parameter `dropout_prob`\n",
        "* If `max_pooling` is set to True, then add a MaxPooling2D layer with 2x2 pool size"
      ]
    },
    {
      "cell_type": "code",
      "execution_count": null,
      "metadata": {
        "id": "_jREFwsA5w6j",
        "nbgrader": {
          "grade": false,
          "grade_id": "cell-5bc67a8f4f19dea5",
          "locked": false,
          "schema_version": 3,
          "solution": true,
          "task": false
        }
      },
      "outputs": [],
      "source": [
        "# UNQ_C1\n",
        "# GRADED FUNCTION: conv_block\n",
        "def conv_block(inputs=None, n_filters=32, dropout_prob=0, max_pooling=True):\n",
        "    \"\"\"\n",
        "    Convolutional downsampling block\n",
        "\n",
        "    Arguments:\n",
        "        inputs -- Input tensor\n",
        "        n_filters -- Number of filters for the convolutional layers\n",
        "        dropout_prob -- Dropout probability\n",
        "        max_pooling -- Use MaxPooling2D to reduce the spatial dimensions of the output volume\n",
        "    Returns:\n",
        "        next_layer, skip_connection --  Next layer and skip connection outputs\n",
        "    \"\"\"\n",
        "\n",
        "    ### START CODE HERE\n",
        "\n",
        "\n",
        "\n",
        "    ### END CODE HERE\n",
        "\n",
        "    # if dropout_prob > 0 add a dropout layer, with the variable dropout_prob as parameter\n",
        "    if dropout_prob > 0:\n",
        "         ### START CODE HERE\n",
        "\n",
        "         ### END CODE HERE\n",
        "\n",
        "\n",
        "    # if max_pooling is True add a MaxPooling2D with 2x2 pool_size\n",
        "    if max_pooling:\n",
        "        ### START CODE HERE\n",
        "\n",
        "        ### END CODE HERE\n",
        "\n",
        "    else:\n",
        "        next_layer = conv\n",
        "\n",
        "    skip_connection = conv\n",
        "\n",
        "    return next_layer, skip_connection"
      ]
    },
    {
      "cell_type": "code",
      "execution_count": null,
      "metadata": {
        "id": "1pW6_cJoiU0I"
      },
      "outputs": [],
      "source": [
        "#####################################################"
      ]
    },
    {
      "cell_type": "markdown",
      "metadata": {
        "id": "8n-9c0keCtbf"
      },
      "source": [
        "<a name='3-3'></a>\n",
        "### 3.3 - Decoder (Upsampling Block)\n",
        "\n",
        "The decoder, or upsampling block, upsamples the features back to the original image size. At each upsampling level, you'll take the output of the corresponding encoder block and concatenate it before feeding to the next decoder block.\n",
        "\n",
        "\n",
        "<a href=\"https://ibb.co/0rGzrk1\"><img src=\"https://i.ibb.co/VTqkTdb/decoder.png\" alt=\"decoder\" border=\"0\"></a>\n",
        "<caption><center> <u><b>Figure 4</u></b>: The U-Net Decoder up close <br> </center></caption>\n",
        "\n",
        "There are two new components in the decoder: `up` and `merge`. These are the transpose convolution and the skip connections. In addition, there are two more convolutional layers set to the same parameters as in the encoder.\n",
        "\n",
        "Here you'll encounter the `Conv2DTranspose` layer, which performs the inverse of the `Conv2D` layer. You can read more about it [here.](https://www.tensorflow.org/api_docs/python/tf/keras/layers/Conv2DTranspose)\n",
        "\n",
        "\n",
        "<a name='ex-2'></a>\n",
        "### Exercise 2 - upsampling_block\n",
        "\n",
        "Implement `upsampling_block(...)`.\n",
        "\n",
        "For the function `upsampling_block`:\n",
        "* Takes the arguments `expansive_input` (which is the input tensor from the previous layer) and `contractive_input` (the input tensor from the previous skip layer)\n",
        "* The number of filters here is the same as in the downsampling block you completed previously\n",
        "* Your `Conv2DTranspose` layer will take `n_filters` with shape (3,3) and a stride of (2,2), with padding set to `same`. It's applied to `expansive_input`, or the input tensor from the previous layer.\n",
        "\n",
        "This block is also where you'll concatenate the outputs from the encoder blocks, creating skip connections.\n",
        "\n",
        "* Concatenate your Conv2DTranspose layer output to the contractive input, with an `axis` of 3. In general, you can concatenate the tensors in the order that you prefer. But for the grader, it is important that you use `[up, contractive_input]`\n",
        "\n",
        "For the final component, set the parameters for two Conv2D layers to the same values that you set for the two Conv2D layers in the encoder (ReLU activation, He normal initializer, `same` padding).\n"
      ]
    },
    {
      "cell_type": "code",
      "execution_count": null,
      "metadata": {
        "id": "9lzEn-mu6nHa",
        "nbgrader": {
          "grade": false,
          "grade_id": "cell-4a6bea191d41d977",
          "locked": false,
          "schema_version": 3,
          "solution": true,
          "task": false
        }
      },
      "outputs": [],
      "source": [
        "# UNQ_C2\n",
        "# GRADED FUNCTION: upsampling_block\n",
        "def upsampling_block(expansive_input, contractive_input, n_filters=32):\n",
        "    \"\"\"\n",
        "    Convolutional upsampling block\n",
        "\n",
        "    Arguments:\n",
        "        expansive_input -- Input tensor from previous layer\n",
        "        contractive_input -- Input tensor from previous skip layer\n",
        "        n_filters -- Number of filters for the convolutional layers\n",
        "    Returns:\n",
        "        conv -- Tensor output\n",
        "    \"\"\"\n",
        "\n",
        "    ### START CODE HERE\n",
        "\n",
        "\n",
        "\n",
        "\n",
        "    ### END CODE HERE\n",
        "\n",
        "    return conv"
      ]
    },
    {
      "cell_type": "code",
      "execution_count": null,
      "metadata": {
        "id": "nrbra5rXiU0J"
      },
      "outputs": [],
      "source": [
        "###########################################"
      ]
    },
    {
      "cell_type": "markdown",
      "metadata": {
        "id": "emAJn_gPiU0J"
      },
      "source": [
        "<a name='3-4'></a>\n",
        "### 3.4 - Build the Model\n",
        "\n",
        "This is where you'll put it all together, by chaining the encoder, bottleneck, and decoder! You'll need to specify the number of output channels, which for this particular set would be 23. That's because there are **23 possible labels for each pixel in this self-driving car dataset.**\n",
        "\n",
        "<a name='ex-3'></a>\n",
        "### Exercise 3 - unet_model\n",
        "\n",
        "For the function `unet_model`, specify the input shape, number of filters, and number of classes (23 in this case).\n",
        "\n",
        "For the first half of the model:\n",
        "\n",
        "* Begin with a conv block that takes the inputs of the model and the number of filters\n",
        "* Then, chain the first output element of each block to the input of the next convolutional block\n",
        "* Next, double the number of filters at each step\n",
        "* Beginning with `conv_block4`, add `dropout` of 0.3\n",
        "* For the final conv_block, set `dropout` to 0.3 again, and turn off max pooling. (Here `n_filters=n_filters* 16`)\n",
        "\n",
        "For the second half:\n",
        "* From here, at each step, use half the number of filters of the previous block\n",
        "* Use cblock5 as expansive_input and cblock4 as contractive_input, with `n_filters` * 8. This is your bottleneck layer.\n",
        "* Chain the output of the previous block as expansive_input and the corresponding contractive block output.\n",
        "* Note that you must use the second element of the contractive block before the max pooling layer.\n",
        "* `conv9` is a Conv2D layer with ReLU activation, He normal initializer, `same` padding\n",
        "* Finally, `conv10` is a Conv2D that takes the number of classes as the filter, a kernel size of 1, and \"same\" padding. The output of `conv10` is the output of your model."
      ]
    },
    {
      "cell_type": "code",
      "execution_count": null,
      "metadata": {
        "id": "Sv2UCFehHZsh",
        "nbgrader": {
          "grade": false,
          "grade_id": "cell-e43cf8104499fbd9",
          "locked": false,
          "schema_version": 3,
          "solution": true,
          "task": false
        }
      },
      "outputs": [],
      "source": [
        "# UNQ_C3\n",
        "# GRADED FUNCTION: unet_model\n",
        "def unet_model(input_size=(96, 128, 3), n_filters=32, n_classes=23):\n",
        "    \"\"\"\n",
        "    Unet model\n",
        "\n",
        "    Arguments:\n",
        "        input_size -- Input shape\n",
        "        n_filters -- Number of filters for the convolutional layers\n",
        "        n_classes -- Number of output classes\n",
        "    Returns:\n",
        "        model -- tf.keras.Model\n",
        "    \"\"\"\n",
        "    inputs = Input(input_size)\n",
        "    # Contracting Path (encoding)\n",
        "    # Add a conv_block with the inputs of the unet_ model and n_filters\n",
        "    ### START CODE HERE\n",
        "\n",
        "    # Chain the first element of the output of each block to be the input of the next conv_block.\n",
        "    # Double the number of filters at each new step\n",
        "\n",
        "\n",
        "    ### END CODE HERE\n",
        "\n",
        "    # Expanding Path (decoding)\n",
        "    # Add the first upsampling_block.\n",
        "    # From here,at each step, use half the number of filters of the previous block\n",
        "    # Use the cblock5[0] as expansive_input and cblock4[1] as contractive_input and n_filters * 8\n",
        "    ### START CODE HERE\n",
        "\n",
        "\n",
        "\n",
        "    ### END CODE HERE\n",
        "\n",
        "    conv9 = Conv2D(n_filters,\n",
        "                 3,\n",
        "                 activation='relu',\n",
        "                 padding='same',\n",
        "                 kernel_initializer='he_normal')(ublock9)\n",
        "\n",
        "    # Add a Conv2D layer with n_classes filters, kernel size of 1 and a 'same' padding and no activation !!!\n",
        "\n",
        "    ### START CODE HERE\n",
        "\n",
        "\n",
        "    ### END CODE HERE\n",
        "\n",
        "    model = tf.keras.Model(inputs=inputs, outputs=conv10)\n",
        "\n",
        "    return model"
      ]
    },
    {
      "cell_type": "markdown",
      "metadata": {
        "id": "sxGmus1niU0J"
      },
      "source": [
        "⏰⏰⏰⏰⏰⏰\n",
        "\n",
        "**Question**\n",
        "\n",
        "Why did we put the last layer's number of filters as n_classes? Why is the kernel size 1? What's this operation called?"
      ]
    },
    {
      "cell_type": "markdown",
      "metadata": {
        "id": "ykCk1lZNiU0J"
      },
      "source": [
        "a.\n",
        "\n",
        "b.\n",
        "\n",
        "c.\n"
      ]
    },
    {
      "cell_type": "code",
      "execution_count": null,
      "metadata": {
        "nbgrader": {
          "grade": true,
          "grade_id": "cell-16d8e2fe99b33552",
          "locked": true,
          "points": 10,
          "schema_version": 3,
          "solution": false,
          "task": false
        },
        "id": "Ttx4GP_7iU0J"
      },
      "outputs": [],
      "source": [
        "import outputs\n",
        "img_height = 96\n",
        "img_width = 128\n",
        "num_channels = 3\n",
        "\n",
        "unet = unet_model((img_height, img_width, num_channels))\n",
        "#############################"
      ]
    },
    {
      "cell_type": "markdown",
      "metadata": {
        "id": "y_-luiUDiU0J"
      },
      "source": [
        "<a name='3-5'></a>\n",
        "### 3.5 - Set Model Dimensions"
      ]
    },
    {
      "cell_type": "code",
      "execution_count": null,
      "metadata": {
        "id": "jCQIwZlnsDTQ"
      },
      "outputs": [],
      "source": [
        "img_height = 96\n",
        "img_width = 128\n",
        "num_channels = 3\n",
        "\n",
        "unet = unet_model((img_height, img_width, num_channels))"
      ]
    },
    {
      "cell_type": "markdown",
      "metadata": {
        "id": "K04HN77DiU0K"
      },
      "source": [
        "### Check out the model summary below!"
      ]
    },
    {
      "cell_type": "code",
      "execution_count": null,
      "metadata": {
        "id": "rmY9g57ciU0K"
      },
      "outputs": [],
      "source": [
        "unet.summary()"
      ]
    },
    {
      "cell_type": "markdown",
      "metadata": {
        "id": "A02eTdbXDDVv"
      },
      "source": [
        "<a name='3-6'></a>\n",
        "### 3.6 - Loss Function\n",
        "\n",
        "In semantic segmentation, you need as many masks as you have object classes. In the dataset you're using, each pixel in every mask has been assigned a single integer probability that it belongs to a certain class, from 0 to num_classes-1. The correct class is the layer with the higher probability."
      ]
    },
    {
      "cell_type": "code",
      "execution_count": null,
      "metadata": {
        "id": "AGfA5_7NtH9i"
      },
      "outputs": [],
      "source": [
        "### Write the code that compiles the unet model\n",
        "### Use the correct loss function !!! , adam optimizer and accuracy as the metric\n",
        "\n"
      ]
    },
    {
      "cell_type": "markdown",
      "metadata": {
        "id": "pKiphfTLjX6n"
      },
      "source": [
        "⏰⏰⏰⏰⏰⏰\n",
        "\n",
        "**Question**\n",
        "\n",
        "I have no activations in the last layer so what does the loss function you chose do to handle this?"
      ]
    },
    {
      "cell_type": "markdown",
      "metadata": {
        "id": "vB06SLJLjX6n"
      },
      "source": [
        "ANSWER\n"
      ]
    },
    {
      "cell_type": "markdown",
      "metadata": {
        "id": "Cz5Z8XdbC6Hg"
      },
      "source": [
        "<a name='3-7'></a>\n",
        "### 3.7 - Dataset Handling\n",
        "\n",
        "Below, define a function that allows you to display both an input image, and its ground truth: the true mask. The true mask is what your trained model output is aiming to get as close to as possible."
      ]
    },
    {
      "cell_type": "code",
      "execution_count": null,
      "metadata": {
        "id": "mSuxeWlSgU5f"
      },
      "outputs": [],
      "source": [
        "def display(display_list):\n",
        "    plt.figure(figsize=(15, 15))\n",
        "\n",
        "    title = ['Input Image', 'True Mask', 'Predicted Mask']\n",
        "\n",
        "    for i in range(len(display_list)):\n",
        "        plt.subplot(1, len(display_list), i+1)\n",
        "        plt.title(title[i])\n",
        "        plt.imshow(tf.keras.preprocessing.image.array_to_img(display_list[i]))\n",
        "        plt.axis('off')\n",
        "    plt.show()"
      ]
    },
    {
      "cell_type": "code",
      "execution_count": null,
      "metadata": {
        "id": "xpFmVX5vgXRj"
      },
      "outputs": [],
      "source": [
        "for image, mask in image_ds.take(1):\n",
        "    sample_image, sample_mask = image, mask\n",
        "    print(mask.shape)\n",
        "display([sample_image, sample_mask])"
      ]
    },
    {
      "cell_type": "code",
      "execution_count": null,
      "metadata": {
        "id": "cqON4c2UGgC4"
      },
      "outputs": [],
      "source": [
        "for image, mask in processed_image_ds.take(1):\n",
        "    sample_image, sample_mask = image, mask\n",
        "    print(mask.shape)\n",
        "display([sample_image, sample_mask])"
      ]
    },
    {
      "cell_type": "markdown",
      "metadata": {
        "id": "Sco-8XdVC-gN"
      },
      "source": [
        "<a name='4'></a>\n",
        "## 4 - Train the Model"
      ]
    },
    {
      "cell_type": "code",
      "execution_count": null,
      "metadata": {
        "id": "1Ne0IowRgcom"
      },
      "outputs": [],
      "source": [
        "EPOCHS = 40\n",
        "VAL_SUBSPLITS = 5\n",
        "BUFFER_SIZE = 500\n",
        "BATCH_SIZE = 32\n",
        "processed_image_ds.batch(BATCH_SIZE)\n",
        "train_dataset = processed_image_ds.cache().shuffle(BUFFER_SIZE).batch(BATCH_SIZE)\n",
        "print(processed_image_ds.element_spec)\n",
        "model_history = unet.fit(train_dataset, epochs=EPOCHS)"
      ]
    },
    {
      "cell_type": "markdown",
      "metadata": {
        "id": "Fl0Q0kikiU0N"
      },
      "source": [
        "<a name='4-1'></a>\n",
        "### 4.1 - Create Predicted Masks\n",
        "\n",
        "Now, define a function that uses `tf.argmax` in the axis of the number of classes to return the index with the largest value and merge the prediction into a single image:"
      ]
    },
    {
      "cell_type": "code",
      "execution_count": null,
      "metadata": {
        "id": "AvFEnJrHhmJo"
      },
      "outputs": [],
      "source": [
        "def create_mask(pred_mask):\n",
        "    ### Start code here\n",
        "    pred_mask = #############\n",
        "    pred_mask = pred_mask[..., tf.newaxis] # What does this do?\n",
        "    return pred_mask[0]"
      ]
    },
    {
      "cell_type": "markdown",
      "metadata": {
        "id": "nABbVrQMiU0N"
      },
      "source": [
        "<a name='4-2'></a>\n",
        "### 4.2 - Plot Model Accuracy\n",
        "\n",
        "Let's see how your model did!"
      ]
    },
    {
      "cell_type": "code",
      "execution_count": null,
      "metadata": {
        "id": "PqCzmTmnl1lI"
      },
      "outputs": [],
      "source": [
        "plt.plot(model_history.history[\"accuracy\"])"
      ]
    },
    {
      "cell_type": "markdown",
      "metadata": {
        "id": "4EwIihq7iU0N"
      },
      "source": [
        "<a name='4-3'></a>\n",
        "### 4.3 - Show Predictions\n",
        "\n",
        "Next, check your predicted masks against the true mask and the original input image:"
      ]
    },
    {
      "cell_type": "code",
      "execution_count": null,
      "metadata": {
        "id": "BX4uCaP2glMo"
      },
      "outputs": [],
      "source": [
        "def show_predictions(dataset=None, num=1):\n",
        "    \"\"\"\n",
        "    Displays the first image of each of the num batches\n",
        "    \"\"\"\n",
        "    if dataset:\n",
        "        for image, mask in dataset.take(num):\n",
        "            pred_mask = unet.predict(image)\n",
        "            display([image[0], mask[0], create_mask(pred_mask)])\n",
        "    else:\n",
        "        display([sample_image, sample_mask,\n",
        "             create_mask(unet.predict(sample_image[tf.newaxis, ...]))])"
      ]
    },
    {
      "cell_type": "code",
      "execution_count": null,
      "metadata": {
        "id": "5qODM_hRhfR5"
      },
      "outputs": [],
      "source": [
        "show_predictions(train_dataset, 6)"
      ]
    }
  ],
  "metadata": {
    "kernelspec": {
      "display_name": "Python 3",
      "language": "python",
      "name": "python3"
    },
    "language_info": {
      "codemirror_mode": {
        "name": "ipython",
        "version": 3
      },
      "file_extension": ".py",
      "mimetype": "text/x-python",
      "name": "python",
      "nbconvert_exporter": "python",
      "pygments_lexer": "ipython3",
      "version": "3.8.8"
    },
    "colab": {
      "provenance": []
    }
  },
  "nbformat": 4,
  "nbformat_minor": 0
}